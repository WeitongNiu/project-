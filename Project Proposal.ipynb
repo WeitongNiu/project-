{
 "cells": [
  {
   "cell_type": "markdown",
   "id": "9a2c1edd-3e80-4c6a-92e3-bf3c00a3c729",
   "metadata": {},
   "source": [
    "# Introduction to Data Science – Project Proposals\n",
    "*COMP 5360 / MATH 4100, University of Utah, http://datasciencecourse.net/*\n",
    "\n",
    "Due: Friday, March 7 2025, 11:59pm.\n",
    "\n"
   ]
  },
  {
   "cell_type": "markdown",
   "id": "34bec213-49a2-4d7e-aa36-005d23007f7a",
   "metadata": {},
   "source": [
    "# Project Title: Microeconomic Analysis of Wheat Pricing and Market Behavior in Utah: Exploring Local Agricultural Trends\n",
    "\n",
    "## Team Members:\n",
    "NAME(EMAIL, UID)\n",
    "- **YUYANG YAO** (<u1400651@umail.utah.edu>, u1400651)\n",
    "- **NICLAS SCOTT HOLMAN** (<u1281501@umail.utah.edu>, u1281501)\n",
    "- **WEITONG NIU** (<u1345736@umail.utah.edu>, u1345736)"
   ]
  },
  {
   "cell_type": "markdown",
   "id": "06a3dc6f-cbef-4501-9563-b2e23251eafd",
   "metadata": {},
   "source": [
    "## Background and Motivation\n",
    "\n",
    "The motivation for this project arises from the ongoing importance of wheat as a staple agricultural commodity, particularly in local markets such as Utah. Wheat pricing is influenced by numerous factors including production levels, supply chain issues, export-import dynamics, and local consumption patterns. As wheat plays a crucial role in local economies, understanding the microeconomic factors behind its pricing and market behavior is vital for informed decision-making by local farmers, policymakers, and businesses.\n",
    "\n",
    "We are particularly interested in understanding how local factors, such as environmental conditions, production efficiency, and trade policies, affect wheat prices in Utah. In recent years, fluctuations in agricultural commodity prices have led to significant economic consequences for both producers and consumers in the region. By exploring these local dynamics, we aim to provide valuable insights that could help mitigate risks associated with price volatility and optimize agricultural practices in the region.\n",
    "\n",
    "Through this analysis, we hope to contribute to a broader understanding of the agricultural markets in Utah, which can potentially be applied to other regions with similar economic and agricultural structures. Furthermore, this study aligns with current trends in using microeconomic theory to analyze agricultural markets and predict future market behaviors, particularly in the context of policy changes or shifts in production patterns."
   ]
  },
  {
   "cell_type": "markdown",
   "id": "21a3f497-22e0-40b1-a649-0a4cef9b31ee",
   "metadata": {},
   "source": [
    "## Project Objectives\n",
    "\n",
    "- **Primary Questions**:\n",
    "  - How do local factors, such as production levels, imports, exports, and stocks, influence wheat prices in Utah?\n",
    "  - What are the key determinants of wheat supply and demand in Utah's wheat market?\n",
    "  - Can we identify significant trends in wheat pricing and market behavior based on historical data?\n",
    "\n",
    "- **Learning Objectives**:\n",
    "  - Develop expertise in applying microeconomic concepts, such as supply and demand models, market equilibrium, and price elasticity, to an agricultural market context.\n",
    "  - Gain experience in working with time series data, including understanding seasonal trends and their impact on pricing.\n",
    "  - Understand the role of local markets within broader national and global agricultural trade systems.\n",
    "  - Learn how to conduct data cleaning and preparation, exploratory analysis, and develop forecasting models using historical agricultural data.\n"
   ]
  },
  {
   "cell_type": "markdown",
   "id": "9868db5a-acb7-4659-95bf-2f155281305c",
   "metadata": {},
   "source": [
    "## Data Description and Acquisition\n",
    "\n",
    "- **Data Format**: The data will be in CSV format, which includes historical quarterly data on wheat production, exports, imports, consumption, and stocks by class.\n",
    "- **Size**: The dataset consists of several thousand records spanning multiple decades, from the 1973/74 marketing year to the present. Each row represents a quarterly observation of wheat balance sheet data for a specific class of wheat.\n",
    "- **Attributes**: The dataset includes the following key features:\n",
    "  - MarketingYear (Year of observation)\n",
    "  - TimePeriod (Quarterly time period)\n",
    "  - Commodity (Wheat)\n",
    "  - Class (Wheat class, e.g., Hard Red Winter, Soft Red Winter, etc.)\n",
    "  - Attribute (Data type such as Production, Exports, Consumption, etc.)\n",
    "  - GeographicalLevel (e.g., national, regional)\n",
    "  - Location (Country, e.g., United States)\n",
    "  - Value (The numeric value of the specific attribute)\n",
    "  - Unit (Measurement unit, e.g., bushels, tons)\n",
    "  \n",
    "- **Source**: The data is publicly available from the U.S. Department of Agriculture (USDA), Economic Research Service, and USDA World Agricultural Outlook Board. We will download the data from the USDA's historical by-class wheat data repository: [USDA Wheat Data](https://www.ers.usda.gov/data-products/wheat-data/).\n",
    "  \n",
    "- **Structure**: The dataset is structured in a tabular format, where each row corresponds to one time period for a specific wheat class and its associated data attribute.\n"
   ]
  },
  {
   "cell_type": "code",
   "execution_count": 4,
   "id": "23d35485-7342-4144-bc2a-4097d330c4c1",
   "metadata": {},
   "outputs": [
    {
     "ename": "FileNotFoundError",
     "evalue": "[Errno 2] No such file or directory: 'path_to_your_wheat_data.csv'",
     "output_type": "error",
     "traceback": [
      "\u001b[1;31m---------------------------------------------------------------------------\u001b[0m",
      "\u001b[1;31mFileNotFoundError\u001b[0m                         Traceback (most recent call last)",
      "Cell \u001b[1;32mIn[4], line 5\u001b[0m\n\u001b[0;32m      2\u001b[0m \u001b[38;5;28;01mimport\u001b[39;00m \u001b[38;5;21;01mpandas\u001b[39;00m \u001b[38;5;28;01mas\u001b[39;00m \u001b[38;5;21;01mpd\u001b[39;00m\n\u001b[0;32m      4\u001b[0m \u001b[38;5;66;03m# Load the dataset\u001b[39;00m\n\u001b[1;32m----> 5\u001b[0m data \u001b[38;5;241m=\u001b[39m pd\u001b[38;5;241m.\u001b[39mread_csv(\u001b[38;5;124m'\u001b[39m\u001b[38;5;124mpath_to_your_wheat_data.csv\u001b[39m\u001b[38;5;124m'\u001b[39m)\n\u001b[0;32m      7\u001b[0m \u001b[38;5;66;03m# Display the first few rows to understand its structure\u001b[39;00m\n\u001b[0;32m      8\u001b[0m data\u001b[38;5;241m.\u001b[39mhead()\n",
      "File \u001b[1;32m~\\anaconda3\\Lib\\site-packages\\pandas\\io\\parsers\\readers.py:1026\u001b[0m, in \u001b[0;36mread_csv\u001b[1;34m(filepath_or_buffer, sep, delimiter, header, names, index_col, usecols, dtype, engine, converters, true_values, false_values, skipinitialspace, skiprows, skipfooter, nrows, na_values, keep_default_na, na_filter, verbose, skip_blank_lines, parse_dates, infer_datetime_format, keep_date_col, date_parser, date_format, dayfirst, cache_dates, iterator, chunksize, compression, thousands, decimal, lineterminator, quotechar, quoting, doublequote, escapechar, comment, encoding, encoding_errors, dialect, on_bad_lines, delim_whitespace, low_memory, memory_map, float_precision, storage_options, dtype_backend)\u001b[0m\n\u001b[0;32m   1013\u001b[0m kwds_defaults \u001b[38;5;241m=\u001b[39m _refine_defaults_read(\n\u001b[0;32m   1014\u001b[0m     dialect,\n\u001b[0;32m   1015\u001b[0m     delimiter,\n\u001b[1;32m   (...)\u001b[0m\n\u001b[0;32m   1022\u001b[0m     dtype_backend\u001b[38;5;241m=\u001b[39mdtype_backend,\n\u001b[0;32m   1023\u001b[0m )\n\u001b[0;32m   1024\u001b[0m kwds\u001b[38;5;241m.\u001b[39mupdate(kwds_defaults)\n\u001b[1;32m-> 1026\u001b[0m \u001b[38;5;28;01mreturn\u001b[39;00m _read(filepath_or_buffer, kwds)\n",
      "File \u001b[1;32m~\\anaconda3\\Lib\\site-packages\\pandas\\io\\parsers\\readers.py:620\u001b[0m, in \u001b[0;36m_read\u001b[1;34m(filepath_or_buffer, kwds)\u001b[0m\n\u001b[0;32m    617\u001b[0m _validate_names(kwds\u001b[38;5;241m.\u001b[39mget(\u001b[38;5;124m\"\u001b[39m\u001b[38;5;124mnames\u001b[39m\u001b[38;5;124m\"\u001b[39m, \u001b[38;5;28;01mNone\u001b[39;00m))\n\u001b[0;32m    619\u001b[0m \u001b[38;5;66;03m# Create the parser.\u001b[39;00m\n\u001b[1;32m--> 620\u001b[0m parser \u001b[38;5;241m=\u001b[39m TextFileReader(filepath_or_buffer, \u001b[38;5;241m*\u001b[39m\u001b[38;5;241m*\u001b[39mkwds)\n\u001b[0;32m    622\u001b[0m \u001b[38;5;28;01mif\u001b[39;00m chunksize \u001b[38;5;129;01mor\u001b[39;00m iterator:\n\u001b[0;32m    623\u001b[0m     \u001b[38;5;28;01mreturn\u001b[39;00m parser\n",
      "File \u001b[1;32m~\\anaconda3\\Lib\\site-packages\\pandas\\io\\parsers\\readers.py:1620\u001b[0m, in \u001b[0;36mTextFileReader.__init__\u001b[1;34m(self, f, engine, **kwds)\u001b[0m\n\u001b[0;32m   1617\u001b[0m     \u001b[38;5;28mself\u001b[39m\u001b[38;5;241m.\u001b[39moptions[\u001b[38;5;124m\"\u001b[39m\u001b[38;5;124mhas_index_names\u001b[39m\u001b[38;5;124m\"\u001b[39m] \u001b[38;5;241m=\u001b[39m kwds[\u001b[38;5;124m\"\u001b[39m\u001b[38;5;124mhas_index_names\u001b[39m\u001b[38;5;124m\"\u001b[39m]\n\u001b[0;32m   1619\u001b[0m \u001b[38;5;28mself\u001b[39m\u001b[38;5;241m.\u001b[39mhandles: IOHandles \u001b[38;5;241m|\u001b[39m \u001b[38;5;28;01mNone\u001b[39;00m \u001b[38;5;241m=\u001b[39m \u001b[38;5;28;01mNone\u001b[39;00m\n\u001b[1;32m-> 1620\u001b[0m \u001b[38;5;28mself\u001b[39m\u001b[38;5;241m.\u001b[39m_engine \u001b[38;5;241m=\u001b[39m \u001b[38;5;28mself\u001b[39m\u001b[38;5;241m.\u001b[39m_make_engine(f, \u001b[38;5;28mself\u001b[39m\u001b[38;5;241m.\u001b[39mengine)\n",
      "File \u001b[1;32m~\\anaconda3\\Lib\\site-packages\\pandas\\io\\parsers\\readers.py:1880\u001b[0m, in \u001b[0;36mTextFileReader._make_engine\u001b[1;34m(self, f, engine)\u001b[0m\n\u001b[0;32m   1878\u001b[0m     \u001b[38;5;28;01mif\u001b[39;00m \u001b[38;5;124m\"\u001b[39m\u001b[38;5;124mb\u001b[39m\u001b[38;5;124m\"\u001b[39m \u001b[38;5;129;01mnot\u001b[39;00m \u001b[38;5;129;01min\u001b[39;00m mode:\n\u001b[0;32m   1879\u001b[0m         mode \u001b[38;5;241m+\u001b[39m\u001b[38;5;241m=\u001b[39m \u001b[38;5;124m\"\u001b[39m\u001b[38;5;124mb\u001b[39m\u001b[38;5;124m\"\u001b[39m\n\u001b[1;32m-> 1880\u001b[0m \u001b[38;5;28mself\u001b[39m\u001b[38;5;241m.\u001b[39mhandles \u001b[38;5;241m=\u001b[39m get_handle(\n\u001b[0;32m   1881\u001b[0m     f,\n\u001b[0;32m   1882\u001b[0m     mode,\n\u001b[0;32m   1883\u001b[0m     encoding\u001b[38;5;241m=\u001b[39m\u001b[38;5;28mself\u001b[39m\u001b[38;5;241m.\u001b[39moptions\u001b[38;5;241m.\u001b[39mget(\u001b[38;5;124m\"\u001b[39m\u001b[38;5;124mencoding\u001b[39m\u001b[38;5;124m\"\u001b[39m, \u001b[38;5;28;01mNone\u001b[39;00m),\n\u001b[0;32m   1884\u001b[0m     compression\u001b[38;5;241m=\u001b[39m\u001b[38;5;28mself\u001b[39m\u001b[38;5;241m.\u001b[39moptions\u001b[38;5;241m.\u001b[39mget(\u001b[38;5;124m\"\u001b[39m\u001b[38;5;124mcompression\u001b[39m\u001b[38;5;124m\"\u001b[39m, \u001b[38;5;28;01mNone\u001b[39;00m),\n\u001b[0;32m   1885\u001b[0m     memory_map\u001b[38;5;241m=\u001b[39m\u001b[38;5;28mself\u001b[39m\u001b[38;5;241m.\u001b[39moptions\u001b[38;5;241m.\u001b[39mget(\u001b[38;5;124m\"\u001b[39m\u001b[38;5;124mmemory_map\u001b[39m\u001b[38;5;124m\"\u001b[39m, \u001b[38;5;28;01mFalse\u001b[39;00m),\n\u001b[0;32m   1886\u001b[0m     is_text\u001b[38;5;241m=\u001b[39mis_text,\n\u001b[0;32m   1887\u001b[0m     errors\u001b[38;5;241m=\u001b[39m\u001b[38;5;28mself\u001b[39m\u001b[38;5;241m.\u001b[39moptions\u001b[38;5;241m.\u001b[39mget(\u001b[38;5;124m\"\u001b[39m\u001b[38;5;124mencoding_errors\u001b[39m\u001b[38;5;124m\"\u001b[39m, \u001b[38;5;124m\"\u001b[39m\u001b[38;5;124mstrict\u001b[39m\u001b[38;5;124m\"\u001b[39m),\n\u001b[0;32m   1888\u001b[0m     storage_options\u001b[38;5;241m=\u001b[39m\u001b[38;5;28mself\u001b[39m\u001b[38;5;241m.\u001b[39moptions\u001b[38;5;241m.\u001b[39mget(\u001b[38;5;124m\"\u001b[39m\u001b[38;5;124mstorage_options\u001b[39m\u001b[38;5;124m\"\u001b[39m, \u001b[38;5;28;01mNone\u001b[39;00m),\n\u001b[0;32m   1889\u001b[0m )\n\u001b[0;32m   1890\u001b[0m \u001b[38;5;28;01massert\u001b[39;00m \u001b[38;5;28mself\u001b[39m\u001b[38;5;241m.\u001b[39mhandles \u001b[38;5;129;01mis\u001b[39;00m \u001b[38;5;129;01mnot\u001b[39;00m \u001b[38;5;28;01mNone\u001b[39;00m\n\u001b[0;32m   1891\u001b[0m f \u001b[38;5;241m=\u001b[39m \u001b[38;5;28mself\u001b[39m\u001b[38;5;241m.\u001b[39mhandles\u001b[38;5;241m.\u001b[39mhandle\n",
      "File \u001b[1;32m~\\anaconda3\\Lib\\site-packages\\pandas\\io\\common.py:873\u001b[0m, in \u001b[0;36mget_handle\u001b[1;34m(path_or_buf, mode, encoding, compression, memory_map, is_text, errors, storage_options)\u001b[0m\n\u001b[0;32m    868\u001b[0m \u001b[38;5;28;01melif\u001b[39;00m \u001b[38;5;28misinstance\u001b[39m(handle, \u001b[38;5;28mstr\u001b[39m):\n\u001b[0;32m    869\u001b[0m     \u001b[38;5;66;03m# Check whether the filename is to be opened in binary mode.\u001b[39;00m\n\u001b[0;32m    870\u001b[0m     \u001b[38;5;66;03m# Binary mode does not support 'encoding' and 'newline'.\u001b[39;00m\n\u001b[0;32m    871\u001b[0m     \u001b[38;5;28;01mif\u001b[39;00m ioargs\u001b[38;5;241m.\u001b[39mencoding \u001b[38;5;129;01mand\u001b[39;00m \u001b[38;5;124m\"\u001b[39m\u001b[38;5;124mb\u001b[39m\u001b[38;5;124m\"\u001b[39m \u001b[38;5;129;01mnot\u001b[39;00m \u001b[38;5;129;01min\u001b[39;00m ioargs\u001b[38;5;241m.\u001b[39mmode:\n\u001b[0;32m    872\u001b[0m         \u001b[38;5;66;03m# Encoding\u001b[39;00m\n\u001b[1;32m--> 873\u001b[0m         handle \u001b[38;5;241m=\u001b[39m \u001b[38;5;28mopen\u001b[39m(\n\u001b[0;32m    874\u001b[0m             handle,\n\u001b[0;32m    875\u001b[0m             ioargs\u001b[38;5;241m.\u001b[39mmode,\n\u001b[0;32m    876\u001b[0m             encoding\u001b[38;5;241m=\u001b[39mioargs\u001b[38;5;241m.\u001b[39mencoding,\n\u001b[0;32m    877\u001b[0m             errors\u001b[38;5;241m=\u001b[39merrors,\n\u001b[0;32m    878\u001b[0m             newline\u001b[38;5;241m=\u001b[39m\u001b[38;5;124m\"\u001b[39m\u001b[38;5;124m\"\u001b[39m,\n\u001b[0;32m    879\u001b[0m         )\n\u001b[0;32m    880\u001b[0m     \u001b[38;5;28;01melse\u001b[39;00m:\n\u001b[0;32m    881\u001b[0m         \u001b[38;5;66;03m# Binary mode\u001b[39;00m\n\u001b[0;32m    882\u001b[0m         handle \u001b[38;5;241m=\u001b[39m \u001b[38;5;28mopen\u001b[39m(handle, ioargs\u001b[38;5;241m.\u001b[39mmode)\n",
      "\u001b[1;31mFileNotFoundError\u001b[0m: [Errno 2] No such file or directory: 'path_to_your_wheat_data.csv'"
     ]
    }
   ],
   "source": [
    "# Example: Loading and inspecting the dataset\n",
    "import pandas as pd\n",
    "\n",
    "# Load the dataset\n",
    "data = pd.read_csv('path_to_your_wheat_data.csv')\n",
    "\n",
    "# Display the first few rows to understand its structure\n",
    "data.head()"
   ]
  },
  {
   "cell_type": "markdown",
   "id": "f8624e16-41bb-4dd3-b7fb-ff31871088f2",
   "metadata": {},
   "source": [
    "## Ethical Considerations\n",
    "\n",
    "- **Stakeholders**:\n",
    "  - Local farmers and wheat producers in Utah could benefit from better understanding of price fluctuations and market trends.\n",
    "  - Policymakers and agricultural economists in the region may use the findings to optimize local agricultural policies and programs.\n",
    "  - Consumers in Utah and the broader region who are affected by changes in wheat prices might be indirectly impacted by more stable pricing or improved market efficiencies.\n",
    "  \n",
    "- **Potential Harm**:\n",
    "  While this analysis focuses on publicly available historical data and does not include any personal or sensitive information, there is still the potential for misinterpretation of the results. For instance, if the findings were used to make broad assumptions about the future without considering changing market dynamics, it could mislead stakeholders. However, since the data is aggregated and does not contain any identifiable personal information, ethical risks are minimal.\n"
   ]
  },
  {
   "cell_type": "markdown",
   "id": "7dff6aaf-8ecc-45d8-b395-ab45d2b0c4ff",
   "metadata": {},
   "source": [
    "## Data Cleaning and Processing\n",
    "\n",
    "We anticipate several data cleaning tasks, including:\n",
    "- Handling missing values: Some rows may have missing or incomplete data, especially in older records. We plan to impute missing values using mean imputation or drop rows with excessive missing data.\n",
    "- Ensuring consistent formatting: The dataset may have inconsistent units (e.g., tons vs. bushels), and we will standardize units across all observations.\n",
    "- Aggregating data: We may need to aggregate quarterly data to yearly summaries to simplify analysis and remove noise from seasonal fluctuations.\n",
    "\n",
    "Additionally, we plan to create new features such as:\n",
    "- Adjusted production values (taking into account inflation or market conditions).\n",
    "- Price indices based on supply-demand relationships in the dataset."
   ]
  },
  {
   "cell_type": "code",
   "execution_count": null,
   "id": "f1873952-221f-4de6-b308-5e912c08c08b",
   "metadata": {},
   "outputs": [],
   "source": [
    "# Example: Handling missing values and aggregating data\n",
    "# Fill missing values with the median of the column (as an example)\n",
    "data.fillna(data.median(), inplace=True)\n",
    "\n",
    "# Aggregate by marketing year\n",
    "data['MarketingYear'] = data['MarketingYear'].astype(str)\n",
    "yearly_data = data.groupby(['MarketingYear', 'Class']).sum()\n",
    "yearly_data.head()"
   ]
  },
  {
   "cell_type": "markdown",
   "id": "48ec78b3-3187-4569-8c45-b45105ade692",
   "metadata": {},
   "source": [
    "## Exploratory Analysis\n",
    "\n",
    "We will begin our exploratory data analysis (EDA) by examining the trends in wheat production, exports, consumption, and prices over time. Specifically, we will:\n",
    "- Create time series plots to visualize how each variable changes across quarters and years.\n",
    "- Generate correlation matrices to explore the relationships between wheat supply, demand, and price.\n",
    "- Use histograms to analyze the distribution of wheat pricing data.\n",
    "\n",
    "We will also look at trends by class to understand how different wheat types behave in the market."
   ]
  },
  {
   "cell_type": "code",
   "execution_count": null,
   "id": "a3ab9141-175b-40da-ab1b-0d232d6746e2",
   "metadata": {},
   "outputs": [],
   "source": [
    "# Example: Plotting wheat production over time\n",
    "import matplotlib.pyplot as plt\n",
    "import seaborn as sns\n",
    "\n",
    "# Plotting the production of wheat over the years\n",
    "plt.figure(figsize=(10, 6))\n",
    "sns.lineplot(x='MarketingYear', y='Production', data=data, hue='Class')\n",
    "plt.title('Wheat Production by Class Over Time')\n",
    "plt.xlabel('Year')\n",
    "plt.ylabel('Production (in tons)')\n",
    "plt.xticks(rotation=45)\n",
    "plt.show()"
   ]
  },
  {
   "cell_type": "markdown",
   "id": "185ece18-07db-4cff-8723-39ed15161d35",
   "metadata": {},
   "source": [
    "## Analysis Methodology\n",
    "\n",
    "To analyze the wheat market dynamics, we will employ the following methods:\n",
    "- **Time Series Forecasting**: Using ARIMA and possibly LSTM models to forecast wheat production and pricing trends.\n",
    "- **Supply and Demand Analysis**: Implementing basic supply-demand models to understand how fluctuations in supply (production) and demand (consumption, exports) influence prices.\n",
    "- **Regression Analysis**: Using regression models to quantify the impact of various factors, such as production levels, exports, and imports, on wheat prices in Utah.\n",
    "\n",
    "We will focus on modeling price formation and predicting future price trends based on historical data.\n",
    "\n"
   ]
  },
  {
   "cell_type": "code",
   "execution_count": null,
   "id": "08fc4836-d0be-45e5-8c28-01e02a4c80fa",
   "metadata": {},
   "outputs": [],
   "source": [
    "# Example: Simple linear regression to predict wheat price based on production\n",
    "from sklearn.linear_model import LinearRegression\n",
    "\n",
    "# Selecting relevant features for regression\n",
    "X = data[['Production', 'Exports', 'Imports']]\n",
    "y = data['Price']\n",
    "\n",
    "# Fitting a linear regression model\n",
    "model = LinearRegression()\n",
    "model.fit(X, y)\n",
    "\n",
    "# Display the coefficients of the model\n",
    "model.coef_"
   ]
  },
  {
   "cell_type": "markdown",
   "id": "f9dcbf14-3ad2-485d-8182-e92e791da463",
   "metadata": {},
   "source": [
    "## Project Schedule\n",
    "\n",
    "- **Week 1**: Data acquisition and cleaning (Assigned to: [Your Name])\n",
    "- **Week 2**: Exploratory data analysis and initial visualizations (Assigned to: [Team Member's Name])\n",
    "- **Week 3**: Analysis and model development (Assigned to: [Your Name])\n",
    "- **Week 4**: Final analysis, report writing, and presentation preparation (Assigned to: [Both])"
   ]
  }
 ],
 "metadata": {
  "kernelspec": {
   "display_name": "Python 3 (ipykernel)",
   "language": "python",
   "name": "python3"
  },
  "language_info": {
   "codemirror_mode": {
    "name": "ipython",
    "version": 3
   },
   "file_extension": ".py",
   "mimetype": "text/x-python",
   "name": "python",
   "nbconvert_exporter": "python",
   "pygments_lexer": "ipython3",
   "version": "3.12.7"
  }
 },
 "nbformat": 4,
 "nbformat_minor": 5
}
