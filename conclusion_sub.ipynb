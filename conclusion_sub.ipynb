{
 "cells": [
  {
   "cell_type": "markdown",
   "id": "9a2c1edd-3e80-4c6a-92e3-bf3c00a3c729",
   "metadata": {},
   "source": [
    "# Introduction to Data Science – Final Submission\n",
    "*COMP 5360 / MATH 4100, University of Utah, http://datasciencecourse.net/*\n",
    "\n",
    "Due: Friday, March 7 2025, 11:59pm.\n",
    "\n",
    "In this project report we will mention basic information about the members, background and motivation for choosing the direction of the project, setting the project objectives, asking the main questions and setting learning objectives, performing data description and acquisition, ethical considerations and potential harms of the direction, performing data cleaning and processing then exploratory analysis including the analytical methods used, and finally developing a timeline for the group project.\n"
   ]
  },
  {
   "cell_type": "markdown",
   "id": "34bec213-49a2-4d7e-aa36-005d23007f7a",
   "metadata": {},
   "source": [
    "# Project Title: Microeconomic Analysis of Wheat Pricing and Market Behavior in Kansas: Exploring Local Agricultural Trends\n",
    "\n",
    "## Team Members:\n",
    "NAME(EMAIL, UID)\n",
    "- **YUYANG YAO** (<u1400651@umail.utah.edu>, u1400651)\n",
    "- **NICLAS SCOTT HOLMAN** (<u1281501@umail.utah.edu>, u1281501)\n",
    "- **WEITONG NIU** (<u1345736@umail.utah.edu>, u1345736)"
   ]
  },
  {
   "cell_type": "markdown",
   "id": "06a3dc6f-cbef-4501-9563-b2e23251eafd",
   "metadata": {},
   "source": [
    "## Background and Motivation\n",
    "\n",
    "The motivation for this project arises from the ongoing importance of wheat as a staple agricultural commodity, particularly in local markets such as Kansas. Numerous factors, including production levels, supply chain issues, weather, export-import dynamics, and local consumption patterns, influence wheat pricing. As wheat production plays a crucial role in Kansas state's local crop economies, understanding the microeconomic factors behind its pricing and market behavior is critical for optimizing and efficient decision-making by local farmers, policymakers, and businesses like demand, supply, equilibrium price, and quantity trend forecast. \n",
    "\n",
    "Our team is interested in understanding how local factors, such as environmental and weather conditions, Market Structure (wheat should ), production efficiency (technology ex), and trade policies (tariffs and tax ex), affect wheat prices in Kansas (we may only focus on a few of them). In recent years, fluctuations in agricultural commodity prices have led to significant economic consequences for both producers and consumers in the region. By exploring these local dynamics, we will strive to provide valuable insights that could help mitigate risks associated with price volatility and optimize agricultural practices in the region. We are also interested in the seasonal trend of the price of wheat.\n",
    "\n",
    "Through this analysis, we hope to contribute to a broader understanding of the agricultural markets in Kansas (ex-test if the model fits more generally), which can potentially be applied to other regions with similar economic and agricultural structures. Furthermore, this study aligns with current trends in using microeconomic theory to analyze agricultural markets and predict future market behaviors, particularly in the context of policy changes or shifts in production patterns due to supply and demand shifts together with elasticity and so on."
   ]
  },
  {
   "cell_type": "markdown",
   "id": "21a3f497-22e0-40b1-a649-0a4cef9b31ee",
   "metadata": {},
   "source": [
    "## Project Objectives\n",
    "\n",
    "- **Primary Questions**:\n",
    "  - How do local factors, such as production levels and stocks, weather factors including rainfall and temperature, imports, and exports, influence wheat prices in Kansas? How are these variables correlated?\n",
    "  - What are the key determinants of wheat supply and demand in Kansas's wheat market? I.e. except for sales and production, what other factors matter to my model?\n",
    "  - Can we identify significant trends in wheat pricing and market behavior based on historical data?\n",
    "  - How do we interpolate or adjust annual production data to obtain monthly or seasonal production data to match prices (Most reports and data are annual)?\n",
    "   - How to do the missing sales in 2024 or other data influence the trend in regression? How to fix it?\n",
    "\n",
    "- **Learning Objectives**:\n",
    "  - Develop expertise in applying microeconomic concepts, such as supply (supply shock) and demand estimation models, market equilibrium distributions (maybe parametric or nonparametric), and price elasticity, to an agricultural market context.\n",
    "  - Gain experience in working with time series data :(optional: Brownian motion (BM) (need to decompose, helpful for price volatility as diffusion matrix), exponential smoothing, ARIMA, including understanding seasonal trends and their impact on pricing to provide the approximate distribution type for regression (hopefully linear) and visualization.\n",
    "  - Understand the role of local market dynamics within broader national and global agricultural trade systems (especially Kansas, which has the highest wheat production in the United States).\n",
    "  - Learn how to conduct data cleaning and preparation (including quarterly stock info, not montly), do exploratory analysis, and develop forecasting models using historical agricultural data.\n",
    "  - more details in the analysis part"
   ]
  },
  {
   "cell_type": "markdown",
   "id": "9868db5a-acb7-4659-95bf-2f155281305c",
   "metadata": {},
   "source": [
    "## Data Description and Acquisition (df_kansasdata_1_copy_1 except stock)\n",
    "\n",
    "- **Data Format**: The data will be in CSV format (tabular format), which includes data on wheat production (annually and avg to monthly df), consumption measured in sales, stocks, temperature, and rainfall... (exports, imports not ready yet).\n",
    "- **Size**: The dataset (df_kansasdata_1) and other separate data consist of several columns of factors of price from the 2015-2025 Jan. Each row has data on wheat sales, prices for the USA and Kansas state,  temperature, and rainfall, some geographical info, as well as possible missing values \n",
    "- **Attributes**: The datasets (df_kansasdata_1) include the following key features combined from separate svc files:\n",
    "  - There are several 'Year', one'Period', and 'Date' columns for clarity, two weather attributes, and three price attributes, import, and export. \n",
    "  - some features and geographical attributes of the data, including State (all Kansas), commodity (target crops) wheat, some units info like Data item column (price in IN $/BU)\n",
    "  - Price_Kansas_monthly is the monthly average price from Kansas State, Price_usa_monthly is the national monthly price level. Also usa monyly price,and Price_corn_monthly.\n",
    "  -And other factors of price trend, including two other factors, rainfall (Rainfall_kansas) and average monthly temperature of Kansas state (Avg_Tem_k)\n",
    "  - sales_PCT is: Measured in **PCT of Mktg Year**, i.e., wheat sales as a percentage of the sales year, indicating seasonal patterns.\n",
    "  - Sales_Kansas_monthly_approx=..(scale by 1000,000)\n",
    "  - annual production (s per 1000,000 bushel) (scale by 1000,000)\n",
    "  - avg_production (scale by 1000,000)\n",
    "  -  stock separately\n",
    "  - Import export: Values in Thousands of dollars, after scaling, it will be millions of dollars, which macthes import and export\n",
    "  - will add more data as factors for price trends, etc.\n",
    "  \n",
    "- **Source**: The price and most attributes data are publicly available from the USDA NASS (National Agricultural Statistics Service), Economic Research Service. We will download the data from the USDA NASS's Quick Stat (brief monthly) :  [https://quickstats.nass.usda.gov/#321D38A0-B848-3BF5-AA16-C8ABE7613D32]. Tem and rain data for Kansas: [https://www.ncei.noaa.gov/access/monitoring/climate-at-a-glance/statewide/time-series/14/tavg/1/0/2015-2025]. For more sites that may need to collect data in the future, we ensure that data will be collected for research purposes in accordance with the terms of service of the scraping site and the restrictions set out in the robots.txt file, and that we do not spam or sell personal information (most, if not all, of the data we scrape is publicly available).\n",
    "  \n",
    "  \n",
    "\n"
   ]
  },
  {
   "cell_type": "markdown",
   "id": "b251f7d9-0f9d-430e-b765-99158c9ea5fe",
   "metadata": {},
   "source": [
    "## Data Cleaning and Processing\n",
    "\n",
    "We anticipate several data-cleaning tasks, including:\n",
    "- Handling missing values and unmatched index: Date attributes need to be handled. Some rows may have missing values after matching the date and incomplete data (especially in production for supply and stock as quarterly data). Plan to add annual production evenly for each month and may add random erros & seasonal trends from other reports (like in USDA) initially. After forecasting supply, we will adjust it more accurately by predicting value from regression, for example. We plan to impute missing values using the average of (mean of the corresponding month from previous years and the mean of the corresponding year's sales) (done)\n",
    "- Ensuring consistent formatting: The dataset may have inconsistent units (e.g., tons vs. bushels) and inconsistent dates. We will standardize units across all observations and match the date like using (1) reverse the order of the dates (2) .groupby and order month. Observed all are good up till now.\n",
    "- Aggregating data: We may need to aggregate quarterly data or monthly to yearly summaries to simplify analysis and remove noise from seasonal fluctuations (actually, I can download all annual data for 100 years, but may adjust by price inflation and other effects). (aggregate in heatmap)\n",
    "- Adding more price factors' data to the df_kansasdata_1_copy_1.\n",
    "Additionally, we plan to create new features such as (not done yet, will be finished in analysis of mkt dynamics):\n",
    "- Adjusted production values (taking into account inflation or market conditions) after time series analysis and/ or regression\n",
    "- price elasticity of demand by definition (percentage change in quantity-demanded (sales)/ percentage change in price)\n",
    "- Maybe add marginal quantities like marginal product\n",
    "- Price indices are based on supply-demand relationships in the dataset (there are indices summaries from the national level).\n",
    "- Note that the price trend may be similar to the national level, considering the high production of Kansas, but the supply and demand are estimated locally. https://www.nass.usda.gov/Quick_Stats/Lite/result.php?35CB4797-7F2C-3203-912F-B769E7867F50 production2"
   ]
  },
  {
   "cell_type": "markdown",
   "id": "f22dd102-e3f6-45a8-b032-cba39598f01b",
   "metadata": {},
   "source": [
    "Example:\n",
    "Aggregate by marketing year\n",
    "data['MarketingYear'] = data['MarketingYear'].astype(str)\n",
    "yearly_data = data.groupby(['MarketingYear', 'Class']).sum()\n",
    "yearly_data.head()"
   ]
  },
  {
   "cell_type": "markdown",
   "id": "773bc862-924e-43a1-9495-a4d49a114195",
   "metadata": {},
   "source": [
    "stock: [https://quickstats.nass.usda.gov/results/6A4F6845-3BCC-3FCA-A5A4-FCEAF7B44F80} download csv file has erros, will fix later\n",
    "[DEFAULT]\n",
    "URL=https://va-dmz-quickstats.va-dmz-asev3.appserviceenvironment.us/results/A4FCED6F-DC79-3D2F-9816-FDB7E5FAB665\n",
    "[InternetShortcut]\n",
    "URL=https://va-dmz-quickstats.va-dmz-asev3.appserviceenvironment.us/results/A4FCED6F-DC79-3D2F-9816-FDB7E5FAB665\n",
    "\n",
    "More: Price received parity refers to the price that farmers receive for their product in relation to a reference or fair price. It compares actual market prices to expected or ideal prices."
   ]
  },
  {
   "cell_type": "markdown",
   "id": "f61bb789-6555-4835-a493-aa9aeb4d719d",
   "metadata": {},
   "source": [
    "mean and median lacks too much need to **remove outliers** usually only keeps between Q1 – 1.5×IQR and Q3 + 1.5×IQR\n",
    "for each gourp data, apply the revmove outlier function (above rule in 3070 book)\n"
   ]
  },
  {
   "cell_type": "markdown",
   "id": "8d89dfb4-b227-4854-97d5-0cb79dab6fbc",
   "metadata": {},
   "source": [
    "## Exploratory Analysis\n",
    "\n",
    "We will begin our exploratory data analysis (EDA) by examining the trends in wheat production (supply), sales (demand), exports in export, and prices over time. Specifically, we will (initial aig zag price in line plots already displayed above):\n",
    "- Create time series plots (multiple modules) to visualize how each variable changes monthly, seasonally, and maybe yearly (may decompose seasonal trends and separate noise using various modules as stated below).\n",
    "- Generate correlation matrices with heatmap and mutual scatterplots (pairplot) to explore the (linear) relationships between wheat price, supply, demand, and price factors.\n",
    "- Stock visualization\n",
    "- Use histograms to analyze the distribution of wheat pricing trend data.\n",
    "(- Altair with interactive plots to visualize relationships without regression may be difficult) (future)\n",
    "\n",
    "(-We may also add wheat types' trends by class to understand how different wheat types behave in the market)"
   ]
  },
  {
   "cell_type": "markdown",
   "id": "5d8e0e51-5353-4d36-a42f-3575c5a7e876",
   "metadata": {},
   "source": [
    "R^sqaure is around 0.980 and F statsitic p-val is very small, and the intercept and coef's p-val very small. **linear trend** given by Prophet model."
   ]
  },
  {
   "cell_type": "markdown",
   "id": "dd2c4f16-037b-4d67-95f7-b7c1030eb75e",
   "metadata": {},
   "source": [
    "1. Trend showed a roughly steady linear growth before around 2013, followed by a slow and then fast growth rate thereafter, but still linear. \n",
    "2.\n",
    "The first plot shows a steady upward trend in wheat prices over time** Need to check the distribution of residual later, if is it close to straight line than linear.** \n",
    "The second plot: higher prices in winter and spring. This could be due to transportation cost in winter and no production or harvest in winter expectation of future wheat shortness will shift supply left, and demand right, increase price in the short run. The pricce will drop at Jue bacause **kansas wheat will harverst at June and July**, increasing supply and expectation of future wheat surplus.‌"
   ]
  },
  {
   "cell_type": "markdown",
   "id": "f8624e16-41bb-4dd3-b7fb-ff31871088f2",
   "metadata": {},
   "source": [
    "## Ethical Considerations\n",
    "\n",
    "- **Stakeholders**:\n",
    "  - Local farmers and wheat producers in Kanas could benefit from a better understanding of price fluctuations and market trends.\n",
    "  - Policymakers and agricultural economists in the region may use the findings to optimize local agricultural policies and programs.\n",
    "  - Consumers in Kanas and the broader region who are affected by changes in wheat prices might be indirectly impacted by more stable pricing or improved market efficiencies due to Kanas's high wheat production in the US.\n",
    "  \n",
    "- **Potential Harm**:\n",
    "    -   While this analysis focuses on publicly available historical data and does not include any personal or sensitive information, there is still the potential for misinterpretation of the results. More specifically, if the findings were used to make broad assumptions about the future with imperfect or incomplete market dynamics analysis, it could mislead stakeholders, leading to surplus (excess supply) or shortage (excess demand). Additionally, large sample sizes and advanced hypothesis tests may create P-hacking or other statistical 'errors' like bias and minuses from multiple models and evaluation methods. However, ethical risks are minimal since the data is aggregated and does not contain any identifiable personal information. (One of the reasons that the budget constraint curve in utility maximization to estimate demand, and the total cost line for cost-minimizing is difficult to assess (less data) is ethical harm to the privacy of firms & individuals and potential misuses of models)\n",
    "    -   Econml model depends on the data we have, our model still lakcs lots of external factors that is hard to get. So the quantified relationship is possible not reliable but may show brief understanding\n"
   ]
  },
  {
   "cell_type": "markdown",
   "id": "12222baa-8ce7-49e2-9500-aa17b8fcffb0",
   "metadata": {},
   "source": [
    "Using API or create more data to analyze like elasticity, classify mkt structure"
   ]
  },
  {
   "cell_type": "markdown",
   "id": "185ece18-07db-4cff-8723-39ed15161d35",
   "metadata": {},
   "source": [
    "## Analysis Methodology\n",
    "\n",
    "To analyze the wheat market dynamics, we will employ the following methods:\n",
    "- **Time Series Forecasting**: Using Prophet to forecast wheat sales and pricing trends. (the trend may suggest which regression model to  in the following steps. Here, **linear trend works fine** as my metrics_eva_prophet_1 shows that linear trend will not work well for the price drop period. This suggest that the linear regression later will have poor performence because of **huge noise**. (we increase datapoints from 121 to around 270)\n",
    "- **Supply and Demand Analysis and price elasticity**: 1. Implementing basic supply-demand models using regression (optional: cost minimizing and utility maximizing) to understand how fluctuations in supply (production) and demand (consumption like sales, exports) influence prices. Ex, some policies may shift supply curve... (Econ 2010/4010) (future). 2. And price elasticity analysis can help understanding sensivity of the previous models (to max profit ex). We may need to search for additional knowledge to evaluate. \n",
    "- **Regression Analysis**: Using regression models to quantify the impact of various factors, such as production levels, stock, sales, weather, exports, and imports, pirce of substitues, and national production and price affect on wheat prices in Knasas. Future: Note that **PCA and other reduce dimension method** may be helpful in choosing factors to predict price, demand, and supply curves. Also, neural network may work to determine relationship and importance of different factors, may use stochatic process knowledge for equilibrium weights chaning. (Clustering may be beneficial in determining the threshold for seasonal trends for price and consumer behavior identification)\n",
    "- **Evaluations and some economic analysis**:\n",
    "- Using hypothesis tests and cross-validation with corresponding measurements to check overfitting and robustness for time series and other ML models. NOte: Will possile use dynamic cap for prophet model to capture non linear trend hopefully fix prophet and make it more **accurate**.\n",
    "- Then, conduct some microeconomics analysis after adding market dynamics materials as stated above.\n",
    "- Using econml model to do some causal relationship analysis (hope to quantify)\n",
    "-) optional: large data set tests like Wald, Score, and LRT (likelihood ratio test) may be helpful in controlling p-vals and evaluations. Combining Bayesian models with cross-validation as above. PCA for reducing factors. 5090 methods on robustness.\n",
    "\n",
    "We will focus on predicting future price trends and modeling potential market dynamics based on historical data.\n",
    "\n"
   ]
  },
  {
   "cell_type": "markdown",
   "id": "fb798801-b0aa-48aa-bfd7-33f1c3556bb0",
   "metadata": {},
   "source": [
    "Average treatment effect of rain on sales: 10.5\n",
    "This means that, on average, for each additional inch of rain, sales are expected to increase by approximately 10.5 units, holding price, import, and export constant."
   ]
  },
  {
   "cell_type": "markdown",
   "id": "f9dcbf14-3ad2-485d-8182-e92e791da463",
   "metadata": {},
   "source": [
    "## Project Schedule\n",
    "\n",
    "- **Week 1 (Spring break)**: More on data acquisition and cleaning, maybe initial visualization and time series analysis\n",
    "- **Week 2 (till March 23)**: Exploratory data analysis and initial visualizations (visualization and time series analysis) and starting to build regression models for supply demand, calculate elasticity, and so on\n",
    "- **Week 3 (til March 28)**: Finish initial model development like regression\n",
    "- **Week 4-final week)**: Final analysis, report writing, and presentation preparation (all)"
   ]
  },
  {
   "cell_type": "code",
   "execution_count": null,
   "id": "1e268fef-52f6-4782-b731-a40538af7fab",
   "metadata": {},
   "outputs": [],
   "source": [
    "#demonstarey difficulty in data, data processing based on analysis, car price increase due to tarrifs?, do data transformation"
   ]
  }
 ],
 "metadata": {
  "kernelspec": {
   "display_name": "Python 3 (ipykernel)",
   "language": "python",
   "name": "python3"
  },
  "language_info": {
   "codemirror_mode": {
    "name": "ipython",
    "version": 3
   },
   "file_extension": ".py",
   "mimetype": "text/x-python",
   "name": "python",
   "nbconvert_exporter": "python",
   "pygments_lexer": "ipython3",
   "version": "3.12.7"
  }
 },
 "nbformat": 4,
 "nbformat_minor": 5
}
