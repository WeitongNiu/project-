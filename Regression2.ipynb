{
 "cells": [
  {
   "cell_type": "code",
   "execution_count": 5,
   "id": "def1432f-fc08-45ee-96f3-11c71744b3a4",
   "metadata": {},
   "outputs": [],
   "source": [
    "#Imports\n",
    "import pandas as pd\n",
    "import statsmodels.formula.api as sm\n",
    "import matplotlib.pyplot as plt\n",
    "from sklearn.model_selection import train_test_split\n",
    "from sklearn.neural_network import MLPRegressor\n",
    "from sklearn.linear_model import LinearRegression\n",
    "from sklearn.preprocessing import StandardScaler, MinMaxScaler\n",
    "import numpy as np\n",
    "\n",
    "#Read in the data\n",
    "df = pd.read_csv(\"df_kansasdata_1_copy_1.csv\")"
   ]
  },
  {
   "cell_type": "markdown",
   "id": "69bf1ad5-e9c0-4d6f-8d17-9e51223d94f8",
   "metadata": {},
   "source": [
    "## Exploratory Analysis \n",
    "\n",
    "First we look at the correlation matrix to determine which factors have a correlation and if any of them are strong."
   ]
  },
  {
   "cell_type": "code",
   "execution_count": 185,
   "id": "5873a8c2-4b1a-4955-b23f-6e5337aadb15",
   "metadata": {},
   "outputs": [
    {
     "name": "stdout",
     "output_type": "stream",
     "text": [
      "                                              Year  Price_Kansas_monthly  \\\n",
      "Year                                      1.000000              0.339390   \n",
      "Price_Kansas_monthly                      0.339390              1.000000   \n",
      "Price_usa_monthly                         0.418645              0.979579   \n",
      "Price_corn_monthly                        0.483858              0.875536   \n",
      "Date                                      0.999986              0.339259   \n",
      "Rainfall_Kansas                          -0.021739             -0.092489   \n",
      "Avg_Tem_k                                -0.011847             -0.036347   \n",
      "Year_sale                                 1.000000              0.357671   \n",
      "Sales_Kansas_monthly                     -0.019419             -0.093379   \n",
      "Import_usa_monthly                        0.373187              0.576874   \n",
      "Export_usa_monthly                        0.097253              0.654629   \n",
      "Avg_Production                           -0.314935             -0.335711   \n",
      "Annual_Production                        -0.313234             -0.336818   \n",
      "Sales_Kansas_monthly_approx              -0.076728             -0.160665   \n",
      "Price Elasticity of Demand(sales by time  0.063796             -0.070278   \n",
      "\n",
      "                                          Price_usa_monthly  \\\n",
      "Year                                               0.418645   \n",
      "Price_Kansas_monthly                               0.979579   \n",
      "Price_usa_monthly                                  1.000000   \n",
      "Price_corn_monthly                                 0.900218   \n",
      "Date                                               0.418503   \n",
      "Rainfall_Kansas                                   -0.112974   \n",
      "Avg_Tem_k                                         -0.079079   \n",
      "Year_sale                                          0.442465   \n",
      "Sales_Kansas_monthly                              -0.126400   \n",
      "Import_usa_monthly                                 0.619613   \n",
      "Export_usa_monthly                                 0.641067   \n",
      "Avg_Production                                    -0.317493   \n",
      "Annual_Production                                 -0.318404   \n",
      "Sales_Kansas_monthly_approx                       -0.187391   \n",
      "Price Elasticity of Demand(sales by time          -0.062054   \n",
      "\n",
      "                                          Price_corn_monthly      Date  \\\n",
      "Year                                                0.483858  0.999986   \n",
      "Price_Kansas_monthly                                0.875536  0.339259   \n",
      "Price_usa_monthly                                   0.900218  0.418503   \n",
      "Price_corn_monthly                                  1.000000  0.483627   \n",
      "Date                                                0.483627  1.000000   \n",
      "Rainfall_Kansas                                    -0.049907 -0.021531   \n",
      "Avg_Tem_k                                           0.024212 -0.010692   \n",
      "Year_sale                                           0.502334  0.999985   \n",
      "Sales_Kansas_monthly                               -0.017129 -0.018854   \n",
      "Import_usa_monthly                                  0.535773  0.372937   \n",
      "Export_usa_monthly                                  0.596318  0.097060   \n",
      "Avg_Production                                     -0.227702 -0.315021   \n",
      "Annual_Production                                  -0.228532 -0.313318   \n",
      "Sales_Kansas_monthly_approx                        -0.063725 -0.076186   \n",
      "Price Elasticity of Demand(sales by time           -0.106319  0.063876   \n",
      "\n",
      "                                          Rainfall_Kansas  Avg_Tem_k  \\\n",
      "Year                                            -0.021739  -0.011847   \n",
      "Price_Kansas_monthly                            -0.092489  -0.036347   \n",
      "Price_usa_monthly                               -0.112974  -0.079079   \n",
      "Price_corn_monthly                              -0.049907   0.024212   \n",
      "Date                                            -0.021531  -0.010692   \n",
      "Rainfall_Kansas                                  1.000000   0.613307   \n",
      "Avg_Tem_k                                        0.613307   1.000000   \n",
      "Year_sale                                       -0.022462  -0.023833   \n",
      "Sales_Kansas_monthly                             0.286673   0.600306   \n",
      "Import_usa_monthly                              -0.016550  -0.050419   \n",
      "Export_usa_monthly                               0.054874   0.153110   \n",
      "Avg_Production                                  -0.010797   0.002191   \n",
      "Annual_Production                               -0.010283   0.002154   \n",
      "Sales_Kansas_monthly_approx                      0.267949   0.577828   \n",
      "Price Elasticity of Demand(sales by time         0.029864  -0.003707   \n",
      "\n",
      "                                          Year_sale  Sales_Kansas_monthly  \\\n",
      "Year                                       1.000000             -0.019419   \n",
      "Price_Kansas_monthly                       0.357671             -0.093379   \n",
      "Price_usa_monthly                          0.442465             -0.126400   \n",
      "Price_corn_monthly                         0.502334             -0.017129   \n",
      "Date                                       0.999985             -0.018854   \n",
      "Rainfall_Kansas                           -0.022462              0.286673   \n",
      "Avg_Tem_k                                 -0.023833              0.600306   \n",
      "Year_sale                                  1.000000             -0.035466   \n",
      "Sales_Kansas_monthly                      -0.035466              1.000000   \n",
      "Import_usa_monthly                         0.354845             -0.036739   \n",
      "Export_usa_monthly                         0.126256             -0.009319   \n",
      "Avg_Production                            -0.314342             -0.002478   \n",
      "Annual_Production                         -0.312822             -0.002433   \n",
      "Sales_Kansas_monthly_approx               -0.091953              0.965078   \n",
      "Price Elasticity of Demand(sales by time   0.063677              0.006331   \n",
      "\n",
      "                                          Import_usa_monthly  \\\n",
      "Year                                                0.373187   \n",
      "Price_Kansas_monthly                                0.576874   \n",
      "Price_usa_monthly                                   0.619613   \n",
      "Price_corn_monthly                                  0.535773   \n",
      "Date                                                0.372937   \n",
      "Rainfall_Kansas                                    -0.016550   \n",
      "Avg_Tem_k                                          -0.050419   \n",
      "Year_sale                                           0.354845   \n",
      "Sales_Kansas_monthly                               -0.036739   \n",
      "Import_usa_monthly                                  1.000000   \n",
      "Export_usa_monthly                                  0.396422   \n",
      "Avg_Production                                     -0.302289   \n",
      "Annual_Production                                  -0.303049   \n",
      "Sales_Kansas_monthly_approx                        -0.100868   \n",
      "Price Elasticity of Demand(sales by time           -0.034564   \n",
      "\n",
      "                                          Export_usa_monthly  Avg_Production  \\\n",
      "Year                                                0.097253       -0.314935   \n",
      "Price_Kansas_monthly                                0.654629       -0.335711   \n",
      "Price_usa_monthly                                   0.641067       -0.317493   \n",
      "Price_corn_monthly                                  0.596318       -0.227702   \n",
      "Date                                                0.097060       -0.315021   \n",
      "Rainfall_Kansas                                     0.054874       -0.010797   \n",
      "Avg_Tem_k                                           0.153110        0.002191   \n",
      "Year_sale                                           0.126256       -0.314342   \n",
      "Sales_Kansas_monthly                               -0.009319       -0.002478   \n",
      "Import_usa_monthly                                  0.396422       -0.302289   \n",
      "Export_usa_monthly                                  1.000000       -0.048911   \n",
      "Avg_Production                                     -0.048911        1.000000   \n",
      "Annual_Production                                  -0.049851        0.999983   \n",
      "Sales_Kansas_monthly_approx                        -0.023446        0.179973   \n",
      "Price Elasticity of Demand(sales by time           -0.054524       -0.023043   \n",
      "\n",
      "                                          Annual_Production  \\\n",
      "Year                                              -0.313234   \n",
      "Price_Kansas_monthly                              -0.336818   \n",
      "Price_usa_monthly                                 -0.318404   \n",
      "Price_corn_monthly                                -0.228532   \n",
      "Date                                              -0.313318   \n",
      "Rainfall_Kansas                                   -0.010283   \n",
      "Avg_Tem_k                                          0.002154   \n",
      "Year_sale                                         -0.312822   \n",
      "Sales_Kansas_monthly                              -0.002433   \n",
      "Import_usa_monthly                                -0.303049   \n",
      "Export_usa_monthly                                -0.049851   \n",
      "Avg_Production                                     0.999983   \n",
      "Annual_Production                                  1.000000   \n",
      "Sales_Kansas_monthly_approx                        0.180017   \n",
      "Price Elasticity of Demand(sales by time          -0.022830   \n",
      "\n",
      "                                          Sales_Kansas_monthly_approx  \\\n",
      "Year                                                        -0.076728   \n",
      "Price_Kansas_monthly                                        -0.160665   \n",
      "Price_usa_monthly                                           -0.187391   \n",
      "Price_corn_monthly                                          -0.063725   \n",
      "Date                                                        -0.076186   \n",
      "Rainfall_Kansas                                              0.267949   \n",
      "Avg_Tem_k                                                    0.577828   \n",
      "Year_sale                                                   -0.091953   \n",
      "Sales_Kansas_monthly                                         0.965078   \n",
      "Import_usa_monthly                                          -0.100868   \n",
      "Export_usa_monthly                                          -0.023446   \n",
      "Avg_Production                                               0.179973   \n",
      "Annual_Production                                            0.180017   \n",
      "Sales_Kansas_monthly_approx                                  1.000000   \n",
      "Price Elasticity of Demand(sales by time                     0.000495   \n",
      "\n",
      "                                          Price Elasticity of Demand(sales by time  \n",
      "Year                                                                      0.063796  \n",
      "Price_Kansas_monthly                                                     -0.070278  \n",
      "Price_usa_monthly                                                        -0.062054  \n",
      "Price_corn_monthly                                                       -0.106319  \n",
      "Date                                                                      0.063876  \n",
      "Rainfall_Kansas                                                           0.029864  \n",
      "Avg_Tem_k                                                                -0.003707  \n",
      "Year_sale                                                                 0.063677  \n",
      "Sales_Kansas_monthly                                                      0.006331  \n",
      "Import_usa_monthly                                                       -0.034564  \n",
      "Export_usa_monthly                                                       -0.054524  \n",
      "Avg_Production                                                           -0.023043  \n",
      "Annual_Production                                                        -0.022830  \n",
      "Sales_Kansas_monthly_approx                                               0.000495  \n",
      "Price Elasticity of Demand(sales by time                                  1.000000  \n"
     ]
    }
   ],
   "source": [
    "#Create correlation matrix\n",
    "print(df.corr(numeric_only = True))"
   ]
  },
  {
   "cell_type": "markdown",
   "id": "7f37524a-8a93-4f59-8132-3f8702579ce5",
   "metadata": {},
   "source": [
    "We noticed that the Sales_Kansas_monthly was correlated with Avg_Tem_k and Rainfall_Kansas\n",
    "\n",
    "With this observation we proceed to graph these features together to see what the correlation looks like."
   ]
  },
  {
   "cell_type": "code",
   "execution_count": 188,
   "id": "5176c978-d44d-4605-a4c6-ef4e0c4661f2",
   "metadata": {},
   "outputs": [
    {
     "data": {
      "image/png": "[encoded data removed]",
      "text/plain": [
       "<Figure size 640x480 with 1 Axes>"
      ]
     },
     "metadata": {},
     "output_type": "display_data"
    },
    {
     "data": {
      "image/png": "[encoded data removed]",
      "text/plain": [
       "<Figure size 640x480 with 1 Axes>"
      ]
     },
     "metadata": {},
     "output_type": "display_data"
    }
   ],
   "source": [
    "#Visualization\n",
    "plt.scatter(df[\"Avg_Tem_k\"], df[\"Sales_Kansas_monthly\"])\n",
    "plt.xlabel(\"Avg_Tem_k\")\n",
    "plt.ylabel(\"Sales_Kansas_monthly\")\n",
    "plt.show()\n",
    "\n",
    "plt.scatter(df[\"Rainfall_Kansas\"], df[\"Sales_Kansas_monthly\"])\n",
    "plt.xlabel(\"Rainfall_Kansas\")\n",
    "plt.ylabel(\"Sales_Kansas_monthly\")\n",
    "plt.show()"
   ]
  },
  {
   "cell_type": "markdown",
   "id": "fc209046-2b48-4505-ba9d-20e253d8f328",
   "metadata": {},
   "source": [
    "From the visualization the correlation between Avg_Tem_k and Sales_Kansas_monthly looks more suited to a regression analysis. This is expected considering it had a higher correlation from the correlation matrix.\n",
    "\n",
    "We start our regression model by testing different degrees of the model."
   ]
  },
  {
   "cell_type": "code",
   "execution_count": 191,
   "id": "c80c6114-8001-414d-9e7b-c527e5afb9a9",
   "metadata": {},
   "outputs": [
    {
     "name": "stdout",
     "output_type": "stream",
     "text": [
      "                             OLS Regression Results                             \n",
      "================================================================================\n",
      "Dep. Variable:     Sales_Kansas_monthly   R-squared:                       0.360\n",
      "Model:                              OLS   Adj. R-squared:                  0.358\n",
      "Method:                   Least Squares   F-statistic:                     152.1\n",
      "Date:                  Thu, 17 Apr 2025   Prob (F-statistic):           5.07e-28\n",
      "Time:                          16:44:14   Log-Likelihood:                -921.07\n",
      "No. Observations:                   272   AIC:                             1846.\n",
      "Df Residuals:                       270   BIC:                             1853.\n",
      "Df Model:                             1                                         \n",
      "Covariance Type:              nonrobust                                         \n",
      "==============================================================================\n",
      "                 coef    std err          t      P>|t|      [0.025      0.975]\n",
      "------------------------------------------------------------------------------\n",
      "Intercept     -8.7744      1.460     -6.011      0.000     -11.648      -5.900\n",
      "Avg_Tem_k      0.3095      0.025     12.334      0.000       0.260       0.359\n",
      "==============================================================================\n",
      "Omnibus:                       91.714   Durbin-Watson:                   1.742\n",
      "Prob(Omnibus):                  0.000   Jarque-Bera (JB):              237.642\n",
      "Skew:                           1.568   Prob(JB):                     2.49e-52\n",
      "Kurtosis:                       6.337   Cond. No.                         195.\n",
      "==============================================================================\n",
      "\n",
      "Notes:\n",
      "[1] Standard Errors assume that the covariance matrix of the errors is correctly specified.\n",
      "                             OLS Regression Results                             \n",
      "================================================================================\n",
      "Dep. Variable:     Sales_Kansas_monthly   R-squared:                       0.579\n",
      "Model:                              OLS   Adj. R-squared:                  0.576\n",
      "Method:                   Least Squares   F-statistic:                     184.8\n",
      "Date:                  Thu, 17 Apr 2025   Prob (F-statistic):           3.15e-51\n",
      "Time:                          16:44:14   Log-Likelihood:                -864.27\n",
      "No. Observations:                   272   AIC:                             1735.\n",
      "Df Residuals:                       269   BIC:                             1745.\n",
      "Df Model:                             2                                         \n",
      "Covariance Type:              nonrobust                                         \n",
      "=======================================================================================\n",
      "                          coef    std err          t      P>|t|      [0.025      0.975]\n",
      "---------------------------------------------------------------------------------------\n",
      "Intercept              38.1082      4.143      9.197      0.000      29.950      46.266\n",
      "Avg_Tem_k              -1.5883      0.162     -9.805      0.000      -1.907      -1.269\n",
      "I(Avg_Tem_k ** 2.0)     0.0173      0.001     11.810      0.000       0.014       0.020\n",
      "==============================================================================\n",
      "Omnibus:                       88.070   Durbin-Watson:                   2.252\n",
      "Prob(Omnibus):                  0.000   Jarque-Bera (JB):              253.940\n",
      "Skew:                           1.444   Prob(JB):                     7.20e-56\n",
      "Kurtosis:                       6.750   Cond. No.                     4.56e+04\n",
      "==============================================================================\n",
      "\n",
      "Notes:\n",
      "[1] Standard Errors assume that the covariance matrix of the errors is correctly specified.\n",
      "[2] The condition number is large, 4.56e+04. This might indicate that there are\n",
      "strong multicollinearity or other numerical problems.\n",
      "                             OLS Regression Results                             \n",
      "================================================================================\n",
      "Dep. Variable:     Sales_Kansas_monthly   R-squared:                       0.630\n",
      "Model:                              OLS   Adj. R-squared:                  0.626\n",
      "Method:                   Least Squares   F-statistic:                     152.3\n",
      "Date:                  Thu, 17 Apr 2025   Prob (F-statistic):           1.29e-57\n",
      "Time:                          16:44:14   Log-Likelihood:                -846.52\n",
      "No. Observations:                   272   AIC:                             1701.\n",
      "Df Residuals:                       268   BIC:                             1715.\n",
      "Df Model:                             3                                         \n",
      "Covariance Type:              nonrobust                                         \n",
      "=======================================================================================\n",
      "                          coef    std err          t      P>|t|      [0.025      0.975]\n",
      "---------------------------------------------------------------------------------------\n",
      "Intercept             -42.2564     13.711     -3.082      0.002     -69.251     -15.262\n",
      "Avg_Tem_k               3.4442      0.837      4.114      0.000       1.796       5.093\n",
      "I(Avg_Tem_k ** 2.0)    -0.0809      0.016     -5.018      0.000      -0.113      -0.049\n",
      "I(Avg_Tem_k ** 3.0)     0.0006   9.85e-05      6.112      0.000       0.000       0.001\n",
      "==============================================================================\n",
      "Omnibus:                       84.360   Durbin-Watson:                   2.362\n",
      "Prob(Omnibus):                  0.000   Jarque-Bera (JB):              289.297\n",
      "Skew:                           1.304   Prob(JB):                     1.51e-63\n",
      "Kurtosis:                       7.328   Cond. No.                     1.15e+07\n",
      "==============================================================================\n",
      "\n",
      "Notes:\n",
      "[1] Standard Errors assume that the covariance matrix of the errors is correctly specified.\n",
      "[2] The condition number is large, 1.15e+07. This might indicate that there are\n",
      "strong multicollinearity or other numerical problems.\n",
      "                             OLS Regression Results                             \n",
      "================================================================================\n",
      "Dep. Variable:     Sales_Kansas_monthly   R-squared:                       0.631\n",
      "Model:                              OLS   Adj. R-squared:                  0.625\n",
      "Method:                   Least Squares   F-statistic:                     114.0\n",
      "Date:                  Thu, 17 Apr 2025   Prob (F-statistic):           1.47e-56\n",
      "Time:                          16:44:14   Log-Likelihood:                -846.35\n",
      "No. Observations:                   272   AIC:                             1703.\n",
      "Df Residuals:                       267   BIC:                             1721.\n",
      "Df Model:                             4                                         \n",
      "Covariance Type:              nonrobust                                         \n",
      "=======================================================================================\n",
      "                          coef    std err          t      P>|t|      [0.025      0.975]\n",
      "---------------------------------------------------------------------------------------\n",
      "Intercept             -66.4645     44.549     -1.492      0.137    -154.176      21.247\n",
      "Avg_Tem_k               5.4791      3.660      1.497      0.136      -1.726      12.685\n",
      "I(Avg_Tem_k ** 2.0)    -0.1419      0.108     -1.313      0.190      -0.355       0.071\n",
      "I(Avg_Tem_k ** 3.0)     0.0014      0.001      1.011      0.313      -0.001       0.004\n",
      "I(Avg_Tem_k ** 4.0) -3.576e-06   6.26e-06     -0.571      0.568   -1.59e-05    8.75e-06\n",
      "==============================================================================\n",
      "Omnibus:                       84.707   Durbin-Watson:                   2.371\n",
      "Prob(Omnibus):                  0.000   Jarque-Bera (JB):              285.588\n",
      "Skew:                           1.317   Prob(JB):                     9.67e-63\n",
      "Kurtosis:                       7.274   Cond. No.                     2.78e+09\n",
      "==============================================================================\n",
      "\n",
      "Notes:\n",
      "[1] Standard Errors assume that the covariance matrix of the errors is correctly specified.\n",
      "[2] The condition number is large, 2.78e+09. This might indicate that there are\n",
      "strong multicollinearity or other numerical problems.\n"
     ]
    }
   ],
   "source": [
    "#Regression on Sales Monthly \n",
    "lr1 = sm.ols(formula=\"Sales_Kansas_monthly ~ Avg_Tem_k\", data=df).fit()\n",
    "print(lr1.summary())\n",
    "\n",
    "lr2 = sm.ols(formula = \"Sales_Kansas_monthly ~ Avg_Tem_k + I(Avg_Tem_k ** 2.0)\", data =df).fit()\n",
    "print(lr2.summary())\n",
    "\n",
    "lr3 = sm.ols(formula = \"Sales_Kansas_monthly ~ Avg_Tem_k + I(Avg_Tem_k ** 2.0) + I(Avg_Tem_k ** 3.0)\", data =df).fit()\n",
    "print(lr3.summary())\n",
    "\n",
    "lr4 = sm.ols(formula = \"Sales_Kansas_monthly ~ Avg_Tem_k + I(Avg_Tem_k ** 2.0) + I(Avg_Tem_k ** 3.0) + I(Avg_Tem_k ** 4.0)\", data =df).fit()\n",
    "print(lr4.summary())"
   ]
  },
  {
   "cell_type": "markdown",
   "id": "c2c94089-eb57-4d81-a863-33f45b72e7ff",
   "metadata": {},
   "source": [
    "From these models we see that a model of degree three has one of the best R-squared and the p-values are all small. Thus we can make the conclusion that the degree three regression model is the best that we were able to build.\n",
    "\n",
    "Next we test building a regression model using a neural network. First we test different solvers."
   ]
  },
  {
   "cell_type": "code",
   "execution_count": 236,
   "id": "eb3e5216-0bf7-46df-b637-9d92b19d5ecc",
   "metadata": {},
   "outputs": [],
   "source": [
    "#MLPRegressor set up\n",
    "X = df[\"Avg_Tem_k\"].to_numpy().reshape(-1,1)\n",
    "y = df[\"Sales_Kansas_monthly\"].to_numpy().reshape(-1,1)\n",
    "\n",
    "X_train, X_test, y_train, y_test = train_test_split(X, y, test_size=.2)\n",
    "\n",
    "#Scale data\n",
    "scaler = StandardScaler()\n",
    "scaler.fit(X_train)\n",
    "\n",
    "#Apply scaling to data\n",
    "X_train = scaler.transform(X_train)\n",
    "X_test = scaler.transform(X_test)"
   ]
  },
  {
   "cell_type": "code",
   "execution_count": 252,
   "id": "7dc8611e-1061-4919-98c1-d5bbcb7e6795",
   "metadata": {},
   "outputs": [
    {
     "name": "stderr",
     "output_type": "stream",
     "text": [
      "C:\\Users\\nicla\\anaconda3\\Lib\\site-packages\\sklearn\\neural_network\\_multilayer_perceptron.py:1631: DataConversionWarning: A column-vector y was passed when a 1d array was expected. Please change the shape of y to (n_samples, ), for example using ravel().\n",
      "  y = column_or_1d(y, warn=True)\n"
     ]
    },
    {
     "name": "stdout",
     "output_type": "stream",
     "text": [
      "R-squared:  0.6985004524988325\n"
     ]
    }
   ],
   "source": [
    "#First Neural Network regressor with solver = lbfgs\n",
    "mlp_reg = MLPRegressor(hidden_layer_sizes=(8,8),verbose=0,random_state=5,solver='lbfgs', max_iter = 400)\n",
    "\n",
    "mlp_reg.fit(X_train, y_train)\n",
    "\n",
    "print(\"R-squared: \",mlp_reg.score(X_test,y_test)) # score = 1 is good"
   ]
  },
  {
   "cell_type": "code",
   "execution_count": 256,
   "id": "33ffc1aa-20c4-4127-bd5a-ce9926dcbf93",
   "metadata": {},
   "outputs": [
    {
     "name": "stdout",
     "output_type": "stream",
     "text": [
      "R-squared:  0.6922381516910241\n"
     ]
    },
    {
     "name": "stderr",
     "output_type": "stream",
     "text": [
      "C:\\Users\\nicla\\anaconda3\\Lib\\site-packages\\sklearn\\neural_network\\_multilayer_perceptron.py:1631: DataConversionWarning: A column-vector y was passed when a 1d array was expected. Please change the shape of y to (n_samples, ), for example using ravel().\n",
      "  y = column_or_1d(y, warn=True)\n"
     ]
    }
   ],
   "source": [
    "#Second Neural Network regressor with solver = sgd\n",
    "mlp_reg = MLPRegressor(hidden_layer_sizes=(8,8),verbose=0,random_state=5,solver='sgd', max_iter=400)\n",
    "\n",
    "mlp_reg.fit(X_train, y_train)\n",
    "\n",
    "print(\"R-squared: \",mlp_reg.score(X_test,y_test)) # score = 1 is good"
   ]
  },
  {
   "cell_type": "code",
   "execution_count": 258,
   "id": "3ed9bb76-b758-46cf-a5d9-a749190a41dc",
   "metadata": {},
   "outputs": [
    {
     "name": "stderr",
     "output_type": "stream",
     "text": [
      "C:\\Users\\nicla\\anaconda3\\Lib\\site-packages\\sklearn\\neural_network\\_multilayer_perceptron.py:1631: DataConversionWarning: A column-vector y was passed when a 1d array was expected. Please change the shape of y to (n_samples, ), for example using ravel().\n",
      "  y = column_or_1d(y, warn=True)\n"
     ]
    },
    {
     "name": "stdout",
     "output_type": "stream",
     "text": [
      "R-squared: 0.4497402933561824\n"
     ]
    },
    {
     "name": "stderr",
     "output_type": "stream",
     "text": [
      "C:\\Users\\nicla\\anaconda3\\Lib\\site-packages\\sklearn\\neural_network\\_multilayer_perceptron.py:690: ConvergenceWarning: Stochastic Optimizer: Maximum iterations (400) reached and the optimization hasn't converged yet.\n",
      "  warnings.warn(\n"
     ]
    }
   ],
   "source": [
    "#Third Neural Network regressor with solver = adam\n",
    "mlp_reg = MLPRegressor(hidden_layer_sizes=(8,8),verbose=0,random_state=5,solver='adam', max_iter = 400)\n",
    "\n",
    "mlp_reg.fit(X_train, y_train)\n",
    "\n",
    "print(\"R-squared:\" ,mlp_reg.score(X_test,y_test)) # score = 1 is good"
   ]
  },
  {
   "cell_type": "markdown",
   "id": "b450f733-d92a-41ff-a49b-d0d4cdde7edd",
   "metadata": {},
   "source": [
    "These tests show that the sdg and lbfgs have very close scores. Moving forward we will test the other paramaters on the sgd solver."
   ]
  },
  {
   "cell_type": "code",
   "execution_count": 323,
   "id": "df88fd31-4ffb-4940-a00f-560364e9d940",
   "metadata": {},
   "outputs": [
    {
     "name": "stderr",
     "output_type": "stream",
     "text": [
      "C:\\Users\\nicla\\anaconda3\\Lib\\site-packages\\sklearn\\neural_network\\_multilayer_perceptron.py:1631: DataConversionWarning: A column-vector y was passed when a 1d array was expected. Please change the shape of y to (n_samples, ), for example using ravel().\n",
      "  y = column_or_1d(y, warn=True)\n",
      "C:\\Users\\nicla\\anaconda3\\Lib\\site-packages\\sklearn\\neural_network\\_multilayer_perceptron.py:1631: DataConversionWarning: A column-vector y was passed when a 1d array was expected. Please change the shape of y to (n_samples, ), for example using ravel().\n",
      "  y = column_or_1d(y, warn=True)\n",
      "C:\\Users\\nicla\\anaconda3\\Lib\\site-packages\\sklearn\\neural_network\\_multilayer_perceptron.py:545: ConvergenceWarning: lbfgs failed to converge (status=1):\n",
      "STOP: TOTAL NO. of ITERATIONS REACHED LIMIT.\n",
      "\n",
      "Increase the number of iterations (max_iter) or scale the data as shown in:\n",
      "    https://scikit-learn.org/stable/modules/preprocessing.html\n",
      "  self.n_iter_ = _check_optimize_result(\"lbfgs\", opt_res, self.max_iter)\n",
      "C:\\Users\\nicla\\anaconda3\\Lib\\site-packages\\sklearn\\neural_network\\_multilayer_perceptron.py:1631: DataConversionWarning: A column-vector y was passed when a 1d array was expected. Please change the shape of y to (n_samples, ), for example using ravel().\n",
      "  y = column_or_1d(y, warn=True)\n"
     ]
    },
    {
     "name": "stdout",
     "output_type": "stream",
     "text": [
      "Relu R-squared: 0.6985004524988325\n",
      "Tanh R-squared: 0.6223482486866413\n",
      "Logistic R-squared: 0.5811895627214354\n"
     ]
    },
    {
     "name": "stderr",
     "output_type": "stream",
     "text": [
      "C:\\Users\\nicla\\anaconda3\\Lib\\site-packages\\sklearn\\neural_network\\_multilayer_perceptron.py:545: ConvergenceWarning: lbfgs failed to converge (status=1):\n",
      "STOP: TOTAL NO. of ITERATIONS REACHED LIMIT.\n",
      "\n",
      "Increase the number of iterations (max_iter) or scale the data as shown in:\n",
      "    https://scikit-learn.org/stable/modules/preprocessing.html\n",
      "  self.n_iter_ = _check_optimize_result(\"lbfgs\", opt_res, self.max_iter)\n"
     ]
    }
   ],
   "source": [
    "mlp_relu = MLPRegressor(hidden_layer_sizes=(8,8),activation = 'relu' ,verbose=0,random_state=5,solver='lbfgs', max_iter = 400)\n",
    "mlp_tanh = MLPRegressor(hidden_layer_sizes=(8,8),activation = 'tanh' ,verbose=0,random_state=5,solver='lbfgs',max_iter = 400)\n",
    "mlp_logistic = MLPRegressor(hidden_layer_sizes=(8,8),activation = 'logistic' ,verbose=0,random_state=5,solver='lbfgs',max_iter = 400)\n",
    "\n",
    "mlp_relu.fit(X_train, y_train)\n",
    "mlp_tanh.fit(X_train, y_train)\n",
    "mlp_logistic.fit(X_train, y_train)\n",
    "\n",
    "print(\"Relu R-squared:\" ,mlp_relu.score(X_test,y_test))# score = 1 is good\n",
    "print(\"Tanh R-squared:\" ,mlp_tanh.score(X_test,y_test))\n",
    "print(\"Logistic R-squared:\" ,mlp_logistic.score(X_test,y_test))"
   ]
  },
  {
   "cell_type": "markdown",
   "id": "49d6ab7e-613e-4bdf-862d-04421159de0d",
   "metadata": {},
   "source": [
    "From these test we see that using relu as the activation function builds the best model."
   ]
  },
  {
   "cell_type": "markdown",
   "id": "0eaab352-3da1-4f52-9fdf-ad43c543374e",
   "metadata": {},
   "source": [
    "## Write up\n",
    "\n",
    "**Explanation of Exploartory analysis** \n",
    "We began the exploratory analysis by viewing the correlation matrix to see which features of our data frame had a correlation. From this we saw that Sales_Kansas_monthly had a correlation with Avg_Tem_k. From there we began by constructing multiple ols models to see what degree gave the best model. We found that a degree three model gave the highest R-squared value, 0.630, and had low p-values. When we tested a fourth degree model the p-models got very large so it is where we chose to stop.\n",
    "\n",
    "After these initial models we chose to use a neural network to create regression models. We made a train_test split with 20% of the data going to the test data. We first tested three solvers and found that the 'sgd' and 'lbfgs' solvers had similar R-squared values but the 'lbfgs' was slightly better so we continued testing this.\n",
    "\n",
    "We changed the  activation funtion and found that using 'relu' gave the highest R-squared score of 0.692 and was thus the best regression model that was built. \n",
    "\n",
    "One thing of note for the neural network is the sensitivity of the model to the train-test split. While building the models if the train-test split was changed the R-squared score had drastic changes ranging from 0.4 and 0.7 depending on the train-test split."
   ]
  },
  {
   "cell_type": "code",
   "execution_count": null,
   "id": "20f6cb53-a0aa-4402-b539-8c85cbd371d9",
   "metadata": {},
   "outputs": [],
   "source": []
  },
  {
   "cell_type": "code",
   "execution_count": 17,
   "id": "270d9608-e205-4961-8f6b-711ba2bd846c",
   "metadata": {},
   "outputs": [
    {
     "name": "stdout",
     "output_type": "stream",
     "text": [
      "Import R-squared:  0.6025596666938917\n",
      "Export R-squared:  0.6025596666938917\n"
     ]
    },
    {
     "name": "stderr",
     "output_type": "stream",
     "text": [
      "C:\\Users\\nicla\\anaconda3\\Lib\\site-packages\\sklearn\\neural_network\\_multilayer_perceptron.py:1631: DataConversionWarning: A column-vector y was passed when a 1d array was expected. Please change the shape of y to (n_samples, ), for example using ravel().\n",
      "  y = column_or_1d(y, warn=True)\n",
      "C:\\Users\\nicla\\anaconda3\\Lib\\site-packages\\sklearn\\neural_network\\_multilayer_perceptron.py:1631: DataConversionWarning: A column-vector y was passed when a 1d array was expected. Please change the shape of y to (n_samples, ), for example using ravel().\n",
      "  y = column_or_1d(y, warn=True)\n"
     ]
    }
   ],
   "source": [
    "#Import/Export regressions\n",
    "#MLPRegressor set up\n",
    "X = df[\"Export_usa_monthly\"].to_numpy().reshape(-1,1)\n",
    "y = df[\"Price_Kansas_monthly\"].to_numpy().reshape(-1,1)\n",
    "\n",
    "X_train, X_test, y_train, y_test = train_test_split(X, y, test_size=.2)\n",
    "\n",
    "#Scale data\n",
    "scaler = StandardScaler()\n",
    "scaler.fit(X_train)\n",
    "\n",
    "#Apply scaling to data\n",
    "X_train = scaler.transform(X_train)\n",
    "X_test = scaler.transform(X_test)\n",
    "\n",
    "\n",
    "Import_mlp = MLPRegressor(hidden_layer_sizes=(8,8),activation = 'relu' ,verbose=0,random_state=5,solver='lbfgs', max_iter = 400)\n",
    "\n",
    "Import_mlp.fit(X_train, y_train)\n",
    "\n",
    "print(\"Import R-squared: \", Import_mlp.score(X_test, y_test))\n",
    "\n",
    "Export_mlp = MLPRegressor(hidden_layer_sizes=(8,8),activation = 'relu' ,verbose=0,random_state=5,solver='lbfgs', max_iter = 400)\n",
    "\n",
    "Export_mlp.fit(X_train, y_train)\n",
    "\n",
    "print(\"Export R-squared: \", Export_mlp.score(X_test, y_test))\n"
   ]
  },
  {
   "cell_type": "code",
   "execution_count": null,
   "id": "512b517e-86d3-4365-b74f-b824084fcdb5",
   "metadata": {},
   "outputs": [],
   "source": []
  }
 ],
 "metadata": {
  "kernelspec": {
   "display_name": "Python [conda env:base] *",
   "language": "python",
   "name": "conda-base-py"
  },
  "language_info": {
   "codemirror_mode": {
    "name": "ipython",
    "version": 3
   },
   "file_extension": ".py",
   "mimetype": "text/x-python",
   "name": "python",
   "nbconvert_exporter": "python",
   "pygments_lexer": "ipython3",
   "version": "3.12.7"
  }
 },
 "nbformat": 4,
 "nbformat_minor": 5
}
